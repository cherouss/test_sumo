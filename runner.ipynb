{
 "cells": [
  {
   "cell_type": "code",
   "execution_count": 1,
   "metadata": {},
   "outputs": [],
   "source": [
    "import numpy as np\n",
    "from itertools import cycle\n",
    "import xml.etree.ElementTree as ET\n",
    "MIN_DURATION,MAX_DURATION = 5 , 50\n",
    "CYCLE_LENGTH = 4\n",
    "class particule():\n",
    "    def __init__(self,d):\n",
    "        self.pos = np.random.uniform(MIN_DURATION,MAX_DURATION,CYCLE_LENGTH)\n",
    "        self.Pbest = self.pos\n",
    "        self.Pbestcost = float('inf')\n",
    "        self.d = d\n",
    "        self.speed =np.random.uniform(-12,-12, CYCLE_LENGTH)\n",
    "\n",
    "    def setPos(self,):\n",
    "        #r = 1-((self.pos.sum()/self.d))\n",
    "        #temp = (self.speed > 0 ).astype(int) * r\n",
    "        #temp = self.pos + self.speed\n",
    "        self.pos = np.clip(self.speed + self.pos,MIN_DURATION,MAX_DURATION)\n",
    "\n",
    "    def setSpeed(self,w,alpha,beta,Gbest):\n",
    "        self.speed = np.clip(w* self.speed + alpha * np.random.rand()*(self.Pbest - self.pos) + beta * np.random.rand()*(Gbest - self.pos)\\\n",
    "                             ,-5,5)\n",
    "        \n",
    "    def setPbest(self,score):\n",
    "        self.Pbest = self.pos\n",
    "        self.Pbestcost = score\n",
    "        \n"
   ]
  },
  {
   "cell_type": "code",
   "execution_count": 2,
   "metadata": {},
   "outputs": [],
   "source": [
    "#!/usr/bin/env python\n",
    "# Eclipse SUMO, Simulation of Urban MObility; see https://eclipse.org/sumo\n",
    "# Copyright (C) 2009-2020 German Aerospace Center (DLR) and others.\n",
    "# This program and the accompanying materials are made available under the\n",
    "# terms of the Eclipse Public License 2.0 which is available at\n",
    "# https://www.eclipse.org/legal/epl-2.0/\n",
    "# This Source Code may also be made available under the following Secondary\n",
    "# Licenses when the conditions for such availability set forth in the Eclipse\n",
    "# Public License 2.0 are satisfied: GNU General Public License, version 2\n",
    "# or later which is available at\n",
    "# https://www.gnu.org/licenses/old-licenses/gpl-2.0-standalone.html\n",
    "# SPDX-License-Identifier: EPL-2.0 OR GPL-2.0-or-later\n",
    "\n",
    "# @file    runner.py\n",
    "# @author  Lena Kalleske\n",
    "# @author  Daniel Krajzewicz\n",
    "# @author  Michael Behrisch\n",
    "# @author  Jakob Erdmann\n",
    "# @date    2009-03-26\n",
    "\n",
    "from __future__ import absolute_import\n",
    "from __future__ import print_function\n",
    "\n",
    "import os\n",
    "import sys\n",
    "import optparse\n",
    "import random\n",
    "\n",
    "# we need to import python modules from the $SUMO_HOME/tools directory\n",
    "if 'SUMO_HOME' in os.environ:\n",
    "    tools = os.path.join(os.environ['SUMO_HOME'], 'tools')\n",
    "    sys.path.append(tools)\n",
    "else:\n",
    "    sys.exit(\"please declare environment variable 'SUMO_HOME'\")\n",
    "\n",
    "from sumolib import checkBinary  # noqa\n",
    "import traci  # noqa\n",
    "\n",
    "\n",
    "def generate_routefile():\n",
    "    random.seed(42)  # make tests reproducible\n",
    "    N = 2000  # number of time steps\n",
    "    # demand per second from different directions\n",
    "    pWE = 1. / 10\n",
    "    pEW = 1. / 12\n",
    "    pNS = 1. / 50\n",
    "    with open(\"data/cross.rou.xml\", \"w\") as routes:\n",
    "        print(\"\"\"<routes>\n",
    "        <vType id=\"typeWE\" accel=\"0.8\" decel=\"4.5\" sigma=\"0.5\" length=\"5\" minGap=\"2.5\" maxSpeed=\"16.67\" \\\n",
    "guiShape=\"passenger\"/>\n",
    "        <vType id=\"typeNS\" accel=\"0.8\" decel=\"4.5\" sigma=\"0.5\" length=\"7\" minGap=\"3\" maxSpeed=\"25\" guiShape=\"bus\"/>\n",
    "\n",
    "        <route id=\"right\" edges=\"51o 1i 2o 52i\" />\n",
    "        <route id=\"left\" edges=\"52o 2i 1o 51i\" />\n",
    "        <route id=\"down\" edges=\"54o 4i 3o 53i\" />\"\"\", file=routes)\n",
    "        vehNr = 0\n",
    "        for i in range(N):\n",
    "            if random.uniform(0, 1) < pWE:\n",
    "                print('    <vehicle id=\"right_%i\" type=\"typeWE\" route=\"right\" depart=\"%i\" />' % (\n",
    "                    vehNr, i), file=routes)\n",
    "                vehNr += 1\n",
    "            if random.uniform(0, 1) < pNS:\n",
    "                print('    <vehicle id=\"down_%i\" type=\"typeNS\" route=\"down\" depart=\"%i\" color=\"1,0,0\"/>' % (\n",
    "                    vehNr, i), file=routes)\n",
    "                vehNr += 1\n",
    "            if random.uniform(0, 1) < pEW:\n",
    "                print('    <vehicle id=\"left_%i\" type=\"typeWE\" route=\"left\" depart=\"%i\" />' % (\n",
    "                    vehNr, i), file=routes)\n",
    "                vehNr += 1\n",
    "        print(\"</routes>\", file=routes)\n",
    "\n",
    "# The program looks like this\n",
    "#    <tlLogic id=\"0\" type=\"static\" programID=\"0\" offset=\"0\">\n",
    "# the locations of the tls are      NESW\n",
    "#        <phase duration=\"31\" state=\"GrGr\"/>\n",
    "#        <phase duration=\"6\"  state=\"yryr\"/>\n",
    "#        <phase duration=\"31\" state=\"rGrG\"/>\n",
    "#        <phase duration=\"6\"  state=\"ryry\"/>\n",
    "#    </tlLogic>\n",
    "import traci.constants as tc\n",
    "first = True\n",
    "def run(particle):\n",
    "    \"\"\"execute the TraCI control loop\"\"\"\n",
    "    step = 0\n",
    "    \n",
    "    network = ET.parse('data/cross.net.xml')\n",
    "    signal = network.find('tlLogic') \n",
    "    dur = [34,6,31,6] \n",
    "    i = 0\n",
    "    global first\n",
    "    for phase in signal.iter('phase'):\n",
    "        #print('phase')\n",
    "        if first:\n",
    "            phase.set(\"duration\", str(dur[i]))\n",
    "        else:\n",
    "            phase.set(\"duration\", str(int(particle.pos[i])))\n",
    "        i+=1\n",
    "        first = False\n",
    "\n",
    "    network.write(\"data/cross.net.xml\")\n",
    "\n",
    "    #\n",
    "    test = cycle([0,1,2,3])\n",
    "    LastPhase = 0\n",
    "    s = 0\n",
    "    \n",
    "    while traci.simulation.getMinExpectedNumber() > 0:\n",
    "        traci.simulationStep()\n",
    "        #test+= 1\n",
    "        \n",
    "        for v in traci.vehicle.getIDList():\n",
    "            s+= .5*traci.vehicle.getWaitingTime(v) + 5*traci.vehicle.getIDCount()\n",
    "        step += 1\n",
    "        if step >=500:\n",
    "            break\n",
    "    #print(s,test)    \n",
    "    traci.close()\n",
    "    sys.stdout.flush()\n",
    "    xmldoc = ET.parse('tripinfo.xml')\n",
    "\n",
    "    tripinfos = xmldoc.findall('tripinfo')\n",
    "\n",
    "    waiting_time = 0\n",
    "    for tripinfo in tripinfos:\n",
    "        waiting_time += float(tripinfo.get('waitingTime'))\n",
    "    return waiting_time\n",
    "\n",
    "\n",
    "\n",
    "# this is the main entry point of this script\n"
   ]
  },
  {
   "cell_type": "code",
   "execution_count": 3,
   "metadata": {},
   "outputs": [],
   "source": [
    "#options = get_options()\n",
    "c = cycle(np.arange(10000))\n",
    "    # this script has been called from the command line. It will start sumo as a\n",
    "def function(particle):# server, then connect and run\n",
    "    sumoBinary = checkBinary('sumo')\n",
    "       # first, generate the route file for this simulation\n",
    "    generate_routefile()\n",
    "\n",
    "        # this is the normal way of using traci. sumo is started as a\n",
    "        # subprocess and then the python script connects and runs\n",
    "    traci.start(['sumo', \"-c\", \"data/cross.sumocfg\",\n",
    "                                 \"--tripinfo-output\", \"tripinfo.xml\"],port =  8873,label=f\"{next(c)}\")\n",
    "    \n",
    "    s = run(particle)\n",
    "    return s\n",
    "        #vehID = traci.vehicle.getIDList()[0]\n",
    "        #traci.vehicle.subscribe(vehID, (tc.VAR_ROAD_ID, tc.VAR_LANEPOSITION))\n",
    "    #print(print(traci.vehicle.getSubscriptionResults(vehID)))\n",
    "#run(particle)"
   ]
  },
  {
   "cell_type": "code",
   "execution_count": 4,
   "metadata": {},
   "outputs": [],
   "source": [
    "def pso(pop,function,maxiter = 20,alpha =4, beta = 2 ,w = .9,):\n",
    "    #initialiser les swarms\n",
    "    swarms = []\n",
    "    for i in range(pop):\n",
    "        #initial_position = np.random.choice([0,1], CYCLE_LENGTH)\n",
    "        swarms.append(particule(CYCLE_LENGTH))\n",
    "        #print(swarms[i].pos)\n",
    "    #initialiser Gbest\n",
    "    \n",
    "    costGbest = float('inf')\n",
    "    Gbest = np.zeros(CYCLE_LENGTH)\n",
    "    #Gfeatures = float('inf')\n",
    "    history = []\n",
    "    while maxiter:\n",
    "        #a= np.zeros((pop,d+1))\n",
    "        for i in range(pop):\n",
    "            swarms[i].setSpeed(w,alpha,beta,Gbest) \n",
    "            \n",
    "            swarms[i].setPos()\n",
    "            temp_Res = function(swarms[i])\n",
    "            if swarms[i].Pbestcost > temp_Res:\n",
    "                \n",
    "                swarms[i].setPbest(temp_Res)\n",
    "                if costGbest > swarms[i].Pbestcost:\n",
    "                    costGbest = swarms[i].Pbestcost\n",
    "                    Gbest = swarms[i].Pbest\n",
    "        if maxiter%5 ==0:\n",
    "            print('best pos  is : ' ,Gbest)\n",
    "            print('the best time is :',costGbest)\n",
    "            print(swarms[i].speed)\n",
    "            print(swarms[i].pos)\n",
    "            print(swarms[i].Pbestcost)\n",
    "          \n",
    "        maxiter-=1\n",
    "    return costGbest,Gbest,history"
   ]
  },
  {
   "cell_type": "code",
   "execution_count": 5,
   "metadata": {},
   "outputs": [
    {
     "name": "stdout",
     "output_type": "stream",
     "text": [
      "best pos  is :  [11.99823124 29.79355629 44.45233948 34.24337188]\n",
      "the best time is : 995.0\n",
      "[-5. -5.  5. -5.]\n",
      "[42.20426821 29.96304722 28.76739722 39.95123594]\n",
      "1116.0\n",
      "best pos  is :  [16.49823124 25.29355629 39.95233948 29.74337188]\n",
      "the best time is : 936.0\n",
      "[ 5.          2.25490638 -5.          5.        ]\n",
      "[27.20426821 28.66663838 37.68446985 32.62114617]\n",
      "1037.0\n",
      "best pos  is :  [22.99140779 19.63224973 42.08505912 23.23314861]\n",
      "the best time is : 888.0\n",
      "[-5.         -0.37297119  5.         -5.        ]\n",
      "[31.84132095 23.39128866 37.91231286 26.35378563]\n",
      "1013.0\n",
      "best pos  is :  [22.99140779 19.63224973 42.08505912 23.23314861]\n",
      "the best time is : 888.0\n",
      "[ 5. -5. -5.  5.]\n",
      "[26.84132095 19.42993493 40.06834558 27.35593066]\n",
      "928.0\n"
     ]
    },
    {
     "data": {
      "text/plain": [
       "(888.0, array([22.99140779, 19.63224973, 42.08505912, 23.23314861]), [])"
      ]
     },
     "execution_count": 5,
     "metadata": {},
     "output_type": "execute_result"
    }
   ],
   "source": [
    "pso(10,function)"
   ]
  },
  {
   "cell_type": "code",
   "execution_count": null,
   "metadata": {},
   "outputs": [],
   "source": [
    "test = [1,2,3,]\n",
    "a= cycle(test)"
   ]
  },
  {
   "cell_type": "code",
   "execution_count": null,
   "metadata": {},
   "outputs": [],
   "source": [
    "np.arange(10000)"
   ]
  },
  {
   "cell_type": "code",
   "execution_count": null,
   "metadata": {},
   "outputs": [],
   "source": [
    "network = ET.parse('data/cross.net.xml')\n",
    "signal = network.find('tlLogic') \n",
    "i = 0\n",
    "for phase in signal.iter('phase'):\n",
    "        print(phase.get('state'),phase.get('duration'))\n",
    "        phase.set(\"duration\", str(i))\n",
    "        i+=1\n",
    "\n",
    "#network.write(\"data/cross.net.xml\")"
   ]
  },
  {
   "cell_type": "code",
   "execution_count": 30,
   "metadata": {},
   "outputs": [
    {
     "name": "stdout",
     "output_type": "stream",
     "text": [
      "phase\n",
      "phase\n",
      "phase\n",
      "phase\n"
     ]
    }
   ],
   "source": [
    "#network = ET.parse('data/cross.net.xml')\n",
    "#signal = network.find('tlLogic') \n",
    "dur = [34,6,31,6] \n",
    "i = 0\n",
    "for phase in signal.iter('phase'):\n",
    "    print('phase')\n",
    "    phase.set(\"duration\", str(dur[i]))\n",
    "    i+=1\n",
    "        \n",
    "network.write(\"data/cross.net.xml\")"
   ]
  },
  {
   "cell_type": "code",
   "execution_count": 12,
   "metadata": {},
   "outputs": [
    {
     "data": {
      "text/plain": [
       "5"
      ]
     },
     "execution_count": 12,
     "metadata": {},
     "output_type": "execute_result"
    }
   ],
   "source": [
    "int(5.5)"
   ]
  },
  {
   "cell_type": "code",
   "execution_count": 28,
   "metadata": {},
   "outputs": [
    {
     "name": "stdout",
     "output_type": "stream",
     "text": [
      "<Element 'phase' at 0x000001A493162B38>\n",
      "<Element 'phase' at 0x000001A493162B88>\n",
      "<Element 'phase' at 0x000001A493162BD8>\n",
      "<Element 'phase' at 0x000001A493162C28>\n"
     ]
    }
   ],
   "source": [
    "for i in signal.iter('phase'):\n",
    "    print(i)"
   ]
  },
  {
   "cell_type": "code",
   "execution_count": 25,
   "metadata": {},
   "outputs": [
    {
     "data": {
      "text/plain": [
       "array([12.39787881, 26.01068221, 18.66278957, 25.58332035])"
      ]
     },
     "execution_count": 25,
     "metadata": {},
     "output_type": "execute_result"
    }
   ],
   "source": [
    "np.random.uniform(MIN_DURATION,MAX_DURATION,CYCLE_LENGTH)"
   ]
  },
  {
   "cell_type": "code",
   "execution_count": null,
   "metadata": {},
   "outputs": [],
   "source": []
  }
 ],
 "metadata": {
  "kernelspec": {
   "display_name": "Python 3",
   "language": "python",
   "name": "python3"
  },
  "language_info": {
   "codemirror_mode": {
    "name": "ipython",
    "version": 3
   },
   "file_extension": ".py",
   "mimetype": "text/x-python",
   "name": "python",
   "nbconvert_exporter": "python",
   "pygments_lexer": "ipython3",
   "version": "3.6.5"
  }
 },
 "nbformat": 4,
 "nbformat_minor": 2
}
